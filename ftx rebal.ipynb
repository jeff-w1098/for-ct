{
 "cells": [
  {
   "cell_type": "code",
   "execution_count": null,
   "metadata": {},
   "outputs": [],
   "source": [
    "import requests \n",
    "import json\n",
    "import pandas as pd\n",
    "\n",
    "#to see completed rebalancing orders:\n",
    "# https://ftx.com/api/lt/ETHBULL/major_rebalances"
   ]
  },
  {
   "cell_type": "code",
   "execution_count": null,
   "metadata": {},
   "outputs": [],
   "source": [
    "# any token will rebalance if an intraday move causes its leverage to be 33% higher than its target.  \n",
    "# So if markets move down enough that BULL token is 4x leveraged it will rebalance.  \n",
    "# This corresponds to market moves of roughly 11.15% for BULL tokens, 6.7% for BEAR tokens, and 30% for HEDGE tokens.\n",
    "\n",
    "\n",
    "# would require a 33% market move to liquidate a 3x leveraged token, \n",
    "# but the token will generally rebalance within a 6-12% market move, reducing its risk and returning to 3x leveraged.\n",
    "\n"
   ]
  },
  {
   "cell_type": "code",
   "execution_count": null,
   "metadata": {},
   "outputs": [],
   "source": [
    "pd.options.display.float_format = '${:,.2f}'.format\n",
    "\n",
    "dframe = pd.DataFrame()\n",
    "lt = json.loads(requests.get('https://ftx.com/api/lt/tokens').text)\n",
    "lt['result']\n",
    "componentadd = []\n",
    "for e in lt['result']:\n",
    "    componentadd.append(e['underlying'])\n",
    "underlyingset = set(componentadd)\n",
    "underlying = list(underlyingset)\n",
    "underlying.sort()\n",
    "\n",
    "\n",
    "for e in underlying:\n",
    "    undstatreq = json.loads(requests.get(f'https://ftx.com/api/futures/{e}/stats').text)\n",
    "    underlyinglt = []\n",
    "    #print(e)\n",
    "    for r in lt['result']:\n",
    "        if r['underlying'] == e:\n",
    "            underlyinglt.append(r)\n",
    "        \n",
    "        rebalamt = []\n",
    "        for t in underlyinglt:\n",
    "           \n",
    "            \n",
    "            t['exposure_current'] = t['outstanding'] * t['underlyingMark'] * t['positionPerShare']\n",
    "            t['exposure_target'] = t['totalCollateral'] * t['leverage']\n",
    "            t['leverage_current'] = t['exposure_current'] / t['totalCollateral']\n",
    "            t['rebal'] = t['exposure_target'] - t['exposure_current']\n",
    "            \n",
    "            rebalamt.append(t['rebal'])\n",
    "            \n",
    "            \n",
    "\n",
    "\n",
    "        \n",
    "    dframe = dframe.append({'und':e,'rebal':sum(rebalamt),'px':t['underlyingMark'],'volume':(undstatreq['result']['volume']*t['underlyingMark'])},ignore_index=True)\n",
    "\n",
    "\n",
    "\n",
    "dframe = dframe.reindex(dframe.rebal.abs().sort_values(ascending=False).index)\n",
    "dframe = dframe[['und', 'rebal', 'px', 'volume']]\n",
    "dframe\n"
   ]
  },
  {
   "cell_type": "code",
   "execution_count": null,
   "metadata": {},
   "outputs": [],
   "source": []
  },
  {
   "cell_type": "code",
   "execution_count": null,
   "metadata": {},
   "outputs": [],
   "source": []
  }
 ],
 "metadata": {
  "kernelspec": {
   "display_name": "Python 3",
   "language": "python",
   "name": "python3"
  },
  "language_info": {
   "codemirror_mode": {
    "name": "ipython",
    "version": 3
   },
   "file_extension": ".py",
   "mimetype": "text/x-python",
   "name": "python",
   "nbconvert_exporter": "python",
   "pygments_lexer": "ipython3",
   "version": "3.8.5"
  }
 },
 "nbformat": 4,
 "nbformat_minor": 4
}
