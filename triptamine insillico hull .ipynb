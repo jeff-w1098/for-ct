{
 "cells": [
  {
   "cell_type": "code",
   "execution_count": 1,
   "metadata": {},
   "outputs": [],
   "source": [
    "#insillico hull indi in py\n",
    "\n",
    "\n",
    "import json\n",
    "import asyncio\n",
    "import aiohttp\n",
    "import math"
   ]
  },
  {
   "cell_type": "code",
   "execution_count": null,
   "metadata": {},
   "outputs": [],
   "source": [
    "PERIOD = 55"
   ]
  },
  {
   "cell_type": "code",
   "execution_count": null,
   "metadata": {},
   "outputs": [],
   "source": [
    "async def get_close_data():\n",
    "    close_arr = []\n",
    "    #url = \"https://api.pro.coinbase.com/products/BTC-USD/candles?granularity=900\"\n",
    "    url = \"https://api.pro.coinbase.com/products/BTC-USD/candles?granularity=300\"\n",
    "    async with aiohttp.ClientSession() as session:\n",
    "        async with session.get(url) as resp:\n",
    "            resp = await resp.json()\n",
    "            for entry in resp:\n",
    "                close = entry[4]\n",
    "                close_arr.append(close)\n",
    "            return close_arr"
   ]
  },
  {
   "cell_type": "code",
   "execution_count": null,
   "metadata": {},
   "outputs": [],
   "source": [
    "def calculate_wma_from_range(data, index_1, index_2):\n",
    "    sum = 0\n",
    "    weight = index_2 - index_1\n",
    "    for i in range(index_1, index_2):\n",
    "        close = data[i]\n",
    "        sum += close * weight\n",
    "        weight -= 1\n",
    "    \n",
    "    n = index_2 - index_1\n",
    "    denom = ((n*n) + n) / 2\n",
    "    return sum / denom"
   ]
  },
  {
   "cell_type": "code",
   "execution_count": null,
   "metadata": {},
   "outputs": [],
   "source": [
    "async def get_wma_arr(data, num_bars):\n",
    "    max_size = len(data) - PERIOD\n",
    "    wma_arr = []\n",
    "    for i in range(max_size):\n",
    "        data_item = calculate_wma_from_range(data, i, i+num_bars)\n",
    "        wma_arr.append(data_item)\n",
    "    \n",
    "    return wma_arr"
   ]
  },
  {
   "cell_type": "code",
   "execution_count": null,
   "metadata": {},
   "outputs": [],
   "source": [
    "async def get_hull():\n",
    "    data = await get_close_data()\n",
    "    full = await get_wma_arr(data, PERIOD)\n",
    "    half = await get_wma_arr(data, int(PERIOD/2))\n",
    "    hma_data = []\n",
    "    \n",
    "    for i, j in zip(full, half):\n",
    "        hma_data.append(2*j - i)\n",
    "\n",
    "    hma_arr = await get_wma_arr(hma_data, int(math.sqrt(PERIOD)))\n",
    "    return hma_arr, data"
   ]
  },
  {
   "cell_type": "code",
   "execution_count": null,
   "metadata": {},
   "outputs": [],
   "source": [
    "hull,data = await get_hull()\n",
    "print(hull[0])\n",
    "print(hull[2])\n",
    "\n",
    "# 0 < 2 means latest price calc is lower, red\n",
    "# 0 > 2 other way"
   ]
  },
  {
   "cell_type": "code",
   "execution_count": null,
   "metadata": {},
   "outputs": [],
   "source": []
  },
  {
   "cell_type": "code",
   "execution_count": null,
   "metadata": {},
   "outputs": [],
   "source": []
  }
 ],
 "metadata": {
  "kernelspec": {
   "display_name": "Python 3",
   "language": "python",
   "name": "python3"
  },
  "language_info": {
   "codemirror_mode": {
    "name": "ipython",
    "version": 3
   },
   "file_extension": ".py",
   "mimetype": "text/x-python",
   "name": "python",
   "nbconvert_exporter": "python",
   "pygments_lexer": "ipython3",
   "version": "3.8.5"
  }
 },
 "nbformat": 4,
 "nbformat_minor": 4
}
