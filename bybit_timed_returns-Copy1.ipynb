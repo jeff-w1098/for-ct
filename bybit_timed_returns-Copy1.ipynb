{
 "cells": [
  {
   "cell_type": "code",
   "execution_count": 1,
   "metadata": {},
   "outputs": [],
   "source": [
    "import requests\n",
    "import json\n",
    "import time\n",
    "from datetime import datetime\n",
    "import plotly.graph_objects as go"
   ]
  },
  {
   "cell_type": "code",
   "execution_count": 2,
   "metadata": {},
   "outputs": [],
   "source": [
    "#INSERT UR LOCAL TIME HERE\n",
    "\n",
    "#datetime(year, month, day, hour=0, minute=0, second=0, microsecond=0)\n",
    "START_DATE = datetime(2023, 1, 14, 1,45)\n",
    "start_time = START_DATE.timestamp()\n"
   ]
  },
  {
   "cell_type": "code",
   "execution_count": 3,
   "metadata": {},
   "outputs": [],
   "source": [
    "symbols = json.loads(requests.get('https://api.bybit.com/v2/public/symbols').text)\n",
    "symbols['result']\n",
    "contracts = []\n",
    "for e in symbols['result']:\n",
    "    if e['quote_currency'] == 'USDT':\n",
    "        contracts.append(e['name'])\n",
    "        \n",
    "returns_dict = dict()"
   ]
  },
  {
   "cell_type": "code",
   "execution_count": null,
   "metadata": {},
   "outputs": [],
   "source": [
    "for e in contracts:\n",
    "    \n",
    "    url = f\"https://api.bybit.com/public/linear/kline?symbol={e}&interval=1&limit=1&from={int(start_time)}\"\n",
    "    startpxresult = json.loads(requests.get(url).text)\n",
    "    \n",
    "    startpx = startpxresult['result'][0]['close']\n",
    "    \n",
    "    latesturl = f\"https://api.bybit.com/public/linear/recent-trading-records?symbol={e}&limit=1\"\n",
    "    endpxresult = json.loads(requests.get(latesturl).text)\n",
    "    lastpx = endpxresult['result'][0]['price']\n",
    "    \n",
    "    _return = ((lastpx/startpx) - 1)\n",
    "    returns_dict[e] = _return"
   ]
  },
  {
   "cell_type": "code",
   "execution_count": null,
   "metadata": {},
   "outputs": [],
   "source": [
    "data = sorted(returns_dict.items(), key = lambda k: k[1])\n",
    "\n",
    "fig = go.Figure() \n",
    "x_data, y_data = [item[0] for item in data], [item[1] for item in data]\n",
    "trace1 = go.Bar(x=x_data, y=y_data)\n",
    "fig.add_trace(trace1)\n",
    "fig.update_xaxes(autorange=\"reversed\")\n",
    "fig.show()"
   ]
  },
  {
   "cell_type": "code",
   "execution_count": null,
   "metadata": {},
   "outputs": [],
   "source": []
  }
 ],
 "metadata": {
  "kernelspec": {
   "display_name": "Python 3",
   "language": "python",
   "name": "python3"
  },
  "language_info": {
   "codemirror_mode": {
    "name": "ipython",
    "version": 3
   },
   "file_extension": ".py",
   "mimetype": "text/x-python",
   "name": "python",
   "nbconvert_exporter": "python",
   "pygments_lexer": "ipython3",
   "version": "3.8.5"
  }
 },
 "nbformat": 4,
 "nbformat_minor": 5
}
