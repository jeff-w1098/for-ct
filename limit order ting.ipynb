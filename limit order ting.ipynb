{
 "cells": [
  {
   "cell_type": "code",
   "execution_count": 1,
   "metadata": {},
   "outputs": [],
   "source": [
    "import ftclient\n",
    "import numpy as np\n",
    "from scipy.stats import truncnorm\n",
    "import scipy.stats as ss"
   ]
  },
  {
   "cell_type": "code",
   "execution_count": null,
   "metadata": {},
   "outputs": [],
   "source": [
    "acc = ftclient.FtxClient(api_key = '', api_secret  = '',subaccount_name='')"
   ]
  },
  {
   "cell_type": "code",
   "execution_count": null,
   "metadata": {},
   "outputs": [],
   "source": [
    "#normally dist (bell curve) buys\n",
    "def buynorm(size, price, pxrange):\n",
    "    x = np.arange((-pxrange), (pxrange),10) # see this 10 here?\n",
    "    xU, xL = x + 0.5, x - 0.5 \n",
    "    prob = ss.norm.cdf(xU, scale = 3) - ss.norm.cdf(xL, scale = 3)\n",
    "    prob = prob / prob.sum() #normalize the probabilities so their sum is 1 ) meaning ur size argument can be split apart\n",
    "    contsize = prob*size\n",
    "\n",
    "    buys = []\n",
    "    locat = 0\n",
    "    pricerange = np.arange((price-pxrange), (price+pxrange),10) # and here? change that number based on how many $ apart per order\n",
    "\n",
    "    for i in contsize:\n",
    "        #buys.append({'orderQty': int(i) , 'price': pricerange[locat], 'side': 'Buy', 'symbol': 'XBTUSD'})\n",
    "        buys.append({'orderQty': int(i) , 'price': pricerange[locat]})\n",
    "        locat += 1\n",
    "        #print(i)\n",
    "    return buys"
   ]
  },
  {
   "cell_type": "code",
   "execution_count": null,
   "metadata": {},
   "outputs": [],
   "source": [
    "#buy orders in increasing size towards lower bound of price\n",
    "def buydec(size, price, pxrange):\n",
    "    x = np.arange((-pxrange), (pxrange),.5) #\n",
    "    xU, xL = x + 0.5, x - 0.5 \n",
    "    prob = ss.norm.cdf(xU, scale = 3) - ss.norm.cdf(xL, scale = 3)\n",
    "    prob = prob / prob.sum() #normalize the probabilities so their sum is 1\n",
    "    prob.sort()\n",
    "    contsize = prob*size\n",
    "\n",
    "    buys = []\n",
    "    locat = 0\n",
    "    pricerange = np.arange((price-pxrange), (price+pxrange),.5)\n",
    "\n",
    "    for i in contsize:\n",
    "        #buys.append({'orderQty': int(i) , 'price': pricerange[locat], 'side': 'Buy', 'symbol': 'XBTUSD'})\n",
    "        buys.append({'orderQty': int(i) , 'price': pricerange[locat]})\n",
    "        locat += 1\n",
    "        #print(i)\n",
    "    return buys\n",
    "    "
   ]
  },
  {
   "cell_type": "code",
   "execution_count": null,
   "metadata": {},
   "outputs": [],
   "source": [
    "#normally dist (bell curve) sells\n",
    "def sellnorm(size, price, pxrange):\n",
    "    x = np.arange((-pxrange), (pxrange),.5) #\n",
    "    xU, xL = x + 0.5, x - 0.5 \n",
    "    prob = ss.norm.cdf(xU, scale = 3) - ss.norm.cdf(xL, scale = 3)\n",
    "    prob = prob / prob.sum() #normalize the probabilities so their sum is 1\n",
    "    contsize = prob*size\n",
    "\n",
    "    #template = {'orderQty': 1 , 'price': price, 'side': 'Sell', 'symbol': 'XBTUSD'}\n",
    "    sells = []\n",
    "    locat = 0\n",
    "    pricerange = np.arange((price-pxrange), (price+pxrange),.5)\n",
    "\n",
    "    for i in contsize:\n",
    "        #sells.append({'orderQty': int(i) , 'price': pricerange[locat], 'side': 'Sell', 'symbol': 'XBTUSD'})\n",
    "        sells.append({'orderQty': int(i) , 'price': pricerange[locat]})\n",
    "        locat += 1\n",
    "        #print(i)\n",
    "    return sells"
   ]
  },
  {
   "cell_type": "code",
   "execution_count": null,
   "metadata": {},
   "outputs": [],
   "source": [
    "#normally dist (bell curve) sells\n",
    "def sellnorm(size, price, pxrange):\n",
    "    x = np.arange((-pxrange), (pxrange),.5) #\n",
    "    xU, xL = x + 0.5, x - 0.5 \n",
    "    prob = ss.norm.cdf(xU, scale = 3) - ss.norm.cdf(xL, scale = 3)\n",
    "    prob = prob / prob.sum() #normalize the probabilities so their sum is 1\n",
    "    contsize = prob*size\n",
    "\n",
    "    #template = {'orderQty': 1 , 'price': price, 'side': 'Sell', 'symbol': 'XBTUSD'}\n",
    "    sells = []\n",
    "    locat = 0\n",
    "    pricerange = np.arange((price-pxrange), (price+pxrange),.5)\n",
    "\n",
    "    for i in contsize:\n",
    "        #sells.append({'orderQty': int(i) , 'price': pricerange[locat], 'side': 'Sell', 'symbol': 'XBTUSD'})\n",
    "        sells.append({'orderQty': int(i) , 'price': pricerange[locat]})\n",
    "        locat += 1\n",
    "        #print(i)\n",
    "    return sells"
   ]
  },
  {
   "cell_type": "code",
   "execution_count": null,
   "metadata": {},
   "outputs": [],
   "source": [
    "#sell orders and size increases towards upper price range\n",
    "def sellinc(size, price, pxrange):\n",
    "    x = np.arange((-pxrange), (pxrange),.5) #\n",
    "    xU, xL = x + 0.5, x - 0.5 \n",
    "    prob = ss.norm.cdf(xU, scale = 3) - ss.norm.cdf(xL, scale = 3)\n",
    "    prob = prob / prob.sum() #normalize the probabilities so their sum is 1\n",
    "    prob.sort()\n",
    "    contsize = prob*size\n",
    "\n",
    "    #template = {'orderQty': 1 , 'price': price, 'side': 'Sell', 'symbol': 'XBTUSD'}\n",
    "    sells = []\n",
    "    locat = 0\n",
    "    pricerange = np.arange((price-pxrange), (price+pxrange),.5)\n",
    "\n",
    "    for i in contsize:\n",
    "        #sells.append({'orderQty': int(i) , 'price': pricerange[locat], 'side': 'Sell', 'symbol': 'XBTUSD'})\n",
    "        \n",
    "        sells.append({'orderQty': int(i) , 'price': pricerange[locat]})\n",
    "        locat += 1\n",
    "        #print(i)\n",
    "    return sells"
   ]
  },
  {
   "cell_type": "code",
   "execution_count": null,
   "metadata": {},
   "outputs": [],
   "source": [
    "#buy norm in cont size\n",
    "bids = buynorm(5000,1200,50)\n",
    "for e in bids:\n",
    "    #print(e)\n",
    "    if round(e['orderQty']/e['price'],5) != 0: # if your contract size is too small \n",
    "        print(e)\n",
    "        #acc.place_order(market = '-',side = 'buy',price = e['price'],size = round(e['orderQty']/e['price'],5),post_only = True)\n",
    "#un comment above to place orders\n",
    "\n",
    "    else:\n",
    "        continue\n",
    "        \n",
    "    "
   ]
  },
  {
   "cell_type": "code",
   "execution_count": null,
   "metadata": {},
   "outputs": [],
   "source": [
    "asks = sellnorm(1000000,41500,5)\n",
    "for e in asks:\n",
    "    acc.place_order(market = 'BTC-PERP',side = 'sell',price = e['price'],size = round(e['orderQty']/e['price'],5),post_only = True)\n",
    "    "
   ]
  }
 ],
 "metadata": {
  "kernelspec": {
   "display_name": "Python 3",
   "language": "python",
   "name": "python3"
  },
  "language_info": {
   "codemirror_mode": {
    "name": "ipython",
    "version": 3
   },
   "file_extension": ".py",
   "mimetype": "text/x-python",
   "name": "python",
   "nbconvert_exporter": "python",
   "pygments_lexer": "ipython3",
   "version": "3.8.5"
  }
 },
 "nbformat": 4,
 "nbformat_minor": 4
}
